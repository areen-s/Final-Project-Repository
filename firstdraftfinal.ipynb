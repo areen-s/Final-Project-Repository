{
 "cells": [
  {
   "cell_type": "code",
   "execution_count": null,
   "metadata": {},
   "outputs": [],
   "source": [
    "        #Areen Sittichot#\n",
    "#Intro to Computing for Biologists#\n",
    "        #Final Project#"
   ]
  },
  {
   "cell_type": "code",
   "execution_count": 1,
   "metadata": {},
   "outputs": [],
   "source": [
    "#import modules\n",
    "\n",
    "import random\n",
    "import matplotlib.pyplot as plt \n",
    "import numpy as np\n",
    "np.random.seed(1234)"
   ]
  },
  {
   "cell_type": "code",
   "execution_count": 6,
   "metadata": {},
   "outputs": [],
   "source": [
    "#will have 3 custom objects\n",
    "#define individual class\n",
    "\n",
    "class individual:\n",
    "    \"\"\"Class to hold information on individual Warbling Babblers\"\"\"\n",
    "    \n",
    "    def __init__ (self, phenotype, location=\"\"): \n",
    "    #the constructor will initialize the attributes phenotype and location of the individual\n",
    "        \n",
    "        self.phentotype= phenotype\n",
    "        self.location= location\n"
   ]
  },
  {
   "cell_type": "code",
   "execution_count": 7,
   "metadata": {},
   "outputs": [],
   "source": [
    "warblertype_1 = individual(phenotype= \"neutral\") #assigning a phenotype to the different Warblers. There will be 2 kinds\n",
    "warblertype_2 = individual(phenotype= \"bright\")\n",
    "    #somehow need to define defaults for individuals phenotype"
   ]
  },
  {
   "cell_type": "code",
   "execution_count": 15,
   "metadata": {},
   "outputs": [],
   "source": [
    "#define population class\n",
    "class population: \n",
    "    \"\"\"The population class will define how many individuals there are  \"\"\"\n",
    "    \n",
    "    def __init__ (self, popSize= 10):\n",
    "        self.popSize= popSize\n",
    "    #sets the population size \n",
    "    \n",
    "    #creates a list to store all the individuals in the population \n",
    "    \n",
    "population_1 = population(warblertype_1)\n",
    "population_2 = population(warblertype_2)\n",
    "    #populations need to start with a certain phenotype. once moving this will change and update \n",
    "    #list of individuals in the population will be kept here and updated\n",
    "    \n",
    "    #need to have population 1 and 2. each originally containing the phenotype neutral and bright to begin with. "
   ]
  },
  {
   "cell_type": "code",
   "execution_count": 11,
   "metadata": {},
   "outputs": [],
   "source": [
    "#define landscape class\n",
    "class landscape: \n",
    "    \"\"\"Class landscape will define the locations that the individuals in the population to move to/between\"\"\"\n",
    "    \n",
    "    def __init__ (self, landscape)\n",
    "        self.landscape= landscape\n",
    "        \n",
    "landscape_1 = landscape(population_1)\n",
    "landscape_2 = landscape(population_2)\n",
    "    #provide landscapes for the individuals in the population to move to \n",
    "    #list for populations in each landscape"
   ]
  },
  {
   "cell_type": "code",
   "execution_count": null,
   "metadata": {},
   "outputs": [],
   "source": []
  }
 ],
 "metadata": {
  "kernelspec": {
   "display_name": "Python 3",
   "language": "python",
   "name": "python3"
  },
  "language_info": {
   "codemirror_mode": {
    "name": "ipython",
    "version": 3
   },
   "file_extension": ".py",
   "mimetype": "text/x-python",
   "name": "python",
   "nbconvert_exporter": "python",
   "pygments_lexer": "ipython3",
   "version": "3.6.4"
  }
 },
 "nbformat": 4,
 "nbformat_minor": 2
}
